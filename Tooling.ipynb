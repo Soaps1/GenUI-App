{
 "cells": [
  {
   "cell_type": "code",
   "execution_count": 9,
   "id": "403aa4a2-51dc-42aa-98e2-888953887ea7",
   "metadata": {},
   "outputs": [],
   "source": [
    "from langchain_openai import ChatOpenAI\n",
    "from langchain_core.prompts import SystemMessagePromptTemplate\n",
    "## the thing after the import is called the class"
   ]
  },
  {
   "cell_type": "code",
   "execution_count": 3,
   "id": "607f82e2-49e8-477e-a958-4094baf045d2",
   "metadata": {},
   "outputs": [],
   "source": [
    "import os, getpass\n",
    "from dotenv import load_dotenv\n",
    "load_dotenv()\n",
    "\n",
    "PINECONE_API_KEY = os.environ[\"PINECONE_API_KEY\"]\n",
    "OPENAI_API_KEY = os.environ[\"OPENAI_API_KEY\"]"
   ]
  },
  {
   "cell_type": "code",
   "execution_count": 5,
   "id": "df25563c-d29b-4d0c-ae55-a67e8e96e469",
   "metadata": {},
   "outputs": [],
   "source": [
    "llm = ChatOpenAI(model=\"gpt-3.5-turbo-0125\")"
   ]
  },
  {
   "cell_type": "code",
   "execution_count": 8,
   "id": "7fa0ef5c-cf0f-4640-b9b3-20cab39acba4",
   "metadata": {},
   "outputs": [],
   "source": [
    "system_prompt_template = SystemMessagePromptTemplate.from_template(\n",
    "    \"You are an expert in {subject}, and your name is {name}\"\n",
    ")"
   ]
  },
  {
   "cell_type": "code",
   "execution_count": 10,
   "id": "075e2532-e252-4cba-bb5d-b85de65ee841",
   "metadata": {},
   "outputs": [
    {
     "name": "stdout",
     "output_type": "stream",
     "text": [
      "content='You are an expert in golf, and your name is Jackson'\n"
     ]
    }
   ],
   "source": [
    "system_prompt = system_prompt_template.format(\n",
    "    subject=\"golf\",\n",
    "    name=\"Jackson\"\n",
    ")\n",
    "print(system_prompt)"
   ]
  },
  {
   "cell_type": "code",
   "execution_count": 18,
   "id": "4939937c-2fa0-481e-8d64-0f8604aff7c0",
   "metadata": {},
   "outputs": [
    {
     "name": "stdout",
     "output_type": "stream",
     "text": [
      "System: You are a coffee affisionado and your name is Ruby\n",
      "Human: Hello, how are you doing?\n",
      "AI: I am doing well, thanks!\n",
      "Human: do you have any special skills?\n"
     ]
    }
   ],
   "source": [
    "from langchain_core.prompts import ChatPromptTemplate\n",
    "from langchain_core.messages import HumanMessage\n",
    "\n",
    "system_prompt_template = SystemMessagePromptTemplate.from_template(\n",
    "    \"You are a coffee affisionado and your name is {name}\"\n",
    ")\n",
    "\n",
    "template = ChatPromptTemplate.from_messages([\n",
    "    system_prompt_template,\n",
    "    HumanMessage(\"Hello, how are you doing?\"),\n",
    "    (\"ai\", \"I am doing well, thanks!\"),\n",
    "    \"{user_input}\"\n",
    "])\n",
    "\n",
    "prompt_value=template.format(\n",
    "    name=\"Ruby\",\n",
    "    user_input=\"do you have any special skills?\"\n",
    ")\n",
    "\n",
    "print(prompt_value)"
   ]
  },
  {
   "cell_type": "code",
   "execution_count": 20,
   "id": "26e01c15-79d1-4957-bab5-4a611fd51fbe",
   "metadata": {},
   "outputs": [
    {
     "name": "stdout",
     "output_type": "stream",
     "text": [
      "messages=[SystemMessage(content='You are a coffee affisionado and your name is Xander'), HumanMessage(content='Hello, how are you doing?'), AIMessage(content='I am doing well, thanks!'), HumanMessage(content='Whats is your name')]\n"
     ]
    }
   ],
   "source": [
    "prompt_value = template.invoke(\n",
    "    {\n",
    "        \"name\":\"Xander\",\n",
    "        \"user_input\":\"Whats is your name\"\n",
    "    }\n",
    ")\n",
    "print(prompt_value)"
   ]
  },
  {
   "cell_type": "code",
   "execution_count": 25,
   "id": "c05fc94e-16fd-4374-a193-92380f97cd7c",
   "metadata": {},
   "outputs": [
    {
     "name": "stdout",
     "output_type": "stream",
     "text": [
      "what comes to mind when you hear the word bazinga\n"
     ]
    }
   ],
   "source": [
    "from langchain_core.prompts import PromptTemplate\n",
    "\n",
    "prompt = PromptTemplate.from_template(\"what comes to mind when you hear the word {placeholder}\")\n",
    "print(prompt.format(placeholder=\"bazinga\"))"
   ]
  },
  {
   "cell_type": "code",
   "execution_count": 26,
   "id": "ff158728-acde-4e16-a17d-f6eda6911d2f",
   "metadata": {},
   "outputs": [
    {
     "data": {
      "text/plain": [
       "AIMessage(content='The TV show The Big Bang Theory and the character Sheldon Cooper, who often says the catchphrase \"bazinga\" when playing a prank or making a joke.', response_metadata={'token_usage': {'completion_tokens': 33, 'prompt_tokens': 19, 'total_tokens': 52}, 'model_name': 'gpt-3.5-turbo-0125', 'system_fingerprint': None, 'finish_reason': 'stop', 'logprobs': None}, id='run-e00eb93d-1310-4269-825e-3311f52df6e9-0', usage_metadata={'input_tokens': 19, 'output_tokens': 33, 'total_tokens': 52})"
      ]
     },
     "execution_count": 26,
     "metadata": {},
     "output_type": "execute_result"
    }
   ],
   "source": [
    "llm.invoke(prompt.format(placeholder=\"bazinga\"))"
   ]
  }
 ],
 "metadata": {
  "kernelspec": {
   "display_name": "Python 3 (ipykernel)",
   "language": "python",
   "name": "python3"
  },
  "language_info": {
   "codemirror_mode": {
    "name": "ipython",
    "version": 3
   },
   "file_extension": ".py",
   "mimetype": "text/x-python",
   "name": "python",
   "nbconvert_exporter": "python",
   "pygments_lexer": "ipython3",
   "version": "3.11.9"
  }
 },
 "nbformat": 4,
 "nbformat_minor": 5
}
